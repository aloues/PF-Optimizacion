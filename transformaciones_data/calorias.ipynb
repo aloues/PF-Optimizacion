{
 "cells": [
  {
   "cell_type": "code",
   "execution_count": null,
   "id": "6fdd26df",
   "metadata": {},
   "outputs": [
    {
     "name": "stdout",
     "output_type": "stream",
     "text": [
      "Calorías diarias por dieta (kcal):\n",
      "DC     3659.304013\n",
      "OLV    2886.595058\n",
      "SUB    3455.375360\n",
      "POB    1895.913111\n",
      "Name: Total_kcal, dtype: float64\n"
     ]
    }
   ],
   "source": [
    "import pandas as pd\n",
    "data = {\n",
    "    \"Categoría\": [\n",
    "        \"Leche\",\"Yogurt\",\"Batidos\",\"Helado\",\"Queso fresco\",\"Huevos\",\n",
    "        \"Carne de res\",\"Embutidos\",\"Cerdo\",\"Mantequilla\",\"Cordero\",\"Pollo\",\n",
    "        \"Arroz\",\"Pasta\",\"Pan\",\"Cereales\",\"Legumbres\",\"Papas\",\"Tomate\",\n",
    "        \"Otros vegetales\",\"Lechuga\",\"Aceitunas\",\"Manzana\",\"Plátano\",\n",
    "        \"Cítricos\",\"Jugo\",\"Azúcar\",\"Café\",\"Gaseosa\",\"Agua\",\"Cerveza\",\n",
    "        \"Vino\",\"Durazno\",\"Frutos secos\",\"Galletas\"\n",
    "    ],\n",
    "    \"DC\": [\n",
    "        210,8,10,12,13,24,16,45,30,1,5,53,100,18,50,40,28,120,150,80,80,23,\n",
    "        55,36,12,7,6,30,105,40,2,10,4,5,2\n",
    "    ],\n",
    "    \"OLV\": [\n",
    "        220,50,23,5,41,15,0,0,0,2,0,0,170,0,110,24,76,10,110,130,90,10,\n",
    "        49,0,5,150,10,0,100,80,0,20,5,18,2\n",
    "    ],\n",
    "    \"SUB\": [\n",
    "        240,0,0,0,22,35,35,20,15,2,0,30,220,8,95,4,20,110,140,58,78,26,\n",
    "        10,40,15,130,9,60,60,110,20,0,0,35,0\n",
    "    ],\n",
    "    \"POB\": [\n",
    "        100,0,0,0,0,0,0,0,0,0,0,50,200,70,100,60,100,300,30,30,20,0,30,30,\n",
    "        10,0,10,5,0,300,0,0,0,0,0\n",
    "    ]\n",
    "}\n",
    "df_cons = pd.DataFrame(data).set_index(\"Categoría\")\n",
    "\n",
    "df_nut = pd.read_csv(\"../data_final/nutrientes_alimentos_agrupados_precios.csv\", encoding=\"utf-8-sig\")\n",
    "df_nut[\"kcal_por_g\"] = df_nut[\"Energy\"] / df_nut[\"Gramos\"]\n",
    "\n",
    "#crear un diccionario Categoría → kcal_por_g\n",
    "kcal_dict = df_nut.set_index(\"Grupo\")[\"kcal_por_g\"].to_dict()\n",
    "\n",
    "#consumo x kcal_por_g para cada categoría\n",
    "df_kcal = df_cons.copy()\n",
    "for col in df_kcal.columns:\n",
    "    df_kcal[col] = df_kcal[col] * df_kcal.index.map(kcal_dict)\n",
    "\n",
    "#sumar calorías totales por dieta\n",
    "total_kcal = df_kcal.sum().rename(\"Total_kcal\")\n",
    "\n",
    "print(\"Calorías diarias por dieta (kcal):\")\n",
    "print(total_kcal)\n"
   ]
  }
 ],
 "metadata": {
  "kernelspec": {
   "display_name": "Python 3",
   "language": "python",
   "name": "python3"
  },
  "language_info": {
   "codemirror_mode": {
    "name": "ipython",
    "version": 3
   },
   "file_extension": ".py",
   "mimetype": "text/x-python",
   "name": "python",
   "nbconvert_exporter": "python",
   "pygments_lexer": "ipython3",
   "version": "3.12.0"
  }
 },
 "nbformat": 4,
 "nbformat_minor": 5
}
