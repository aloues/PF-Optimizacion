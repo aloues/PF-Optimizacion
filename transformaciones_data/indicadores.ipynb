{
 "cells": [
  {
   "cell_type": "code",
   "execution_count": 7,
   "id": "e2f6d0ac",
   "metadata": {},
   "outputs": [
    {
     "name": "stdout",
     "output_type": "stream",
     "text": [
      "Collecting tabulate\n",
      "  Downloading tabulate-0.9.0-py3-none-any.whl.metadata (34 kB)\n",
      "Downloading tabulate-0.9.0-py3-none-any.whl (35 kB)\n",
      "Installing collected packages: tabulate\n",
      "Note: you may need to restart the kernel to use updated packages.\n"
     ]
    },
    {
     "name": "stderr",
     "output_type": "stream",
     "text": [
      "  WARNING: Failed to write executable - trying to use .deleteme logic\n",
      "ERROR: Could not install packages due to an OSError: [WinError 2] The system cannot find the file specified: 'c:\\\\Python312\\\\Scripts\\\\tabulate.exe' -> 'c:\\\\Python312\\\\Scripts\\\\tabulate.exe.deleteme'\n",
      "\n",
      "\n",
      "[notice] A new release of pip is available: 24.0 -> 25.1.1\n",
      "[notice] To update, run: python.exe -m pip install --upgrade pip\n"
     ]
    }
   ],
   "source": [
    "pip install tabulate"
   ]
  },
  {
   "cell_type": "code",
   "execution_count": 8,
   "id": "ed61c58b",
   "metadata": {},
   "outputs": [
    {
     "name": "stdout",
     "output_type": "stream",
     "text": [
      "| Grupo        |   %DC |   %OLV |   %SUB |   %POB |\n",
      "|:-------------|------:|-------:|-------:|-------:|\n",
      "| Aceites      |  92   |   40   |  104   |    0   |\n",
      "| Azúcares     |  20   |   33.3 |  140   |   33.3 |\n",
      "| Bebidas      |  12.9 |   23.3 |   20.6 |   20.3 |\n",
      "| Cereales     |  70   |  102   |  109   |  143.3 |\n",
      "| Frutas       |  35.7 |   19.7 |   21.7 |   23.3 |\n",
      "| Frutos secos |  33.3 |  120   |  233.3 |    0   |\n",
      "| Legumbres    |  56   |  152   |   40   |  200   |\n",
      "| Lácteos      |  50.8 |   68.2 |   52.8 |   20   |\n",
      "| Proteínas    | 173   |   15   |  135   |   50   |\n",
      "| Tubérculos   |  60   |    5   |   55   |  150   |\n",
      "| Verduras     |  77.5 |   82.5 |   69   |   20   |\n"
     ]
    }
   ],
   "source": [
    "import pandas as pd\n",
    "\n",
    "# 1. Datos de consumo por categoría\n",
    "consumo = pd.read_csv(\"../data_final/dietas_consumo.csv\")\n",
    "\n",
    "# 2. Mapeo a grupos y recomendaciones AESAN (g/día)\n",
    "grupo_map = {\n",
    "    'Leche':'Lácteos','Yogurt':'Lácteos','Batidos':'Lácteos','Helado':'Lácteos','Queso fresco':'Lácteos','Mantequilla':'Lácteos',\n",
    "    'Huevos':'Proteínas','Carne de res':'Proteínas','Embutidos':'Proteínas','Cerdo':'Proteínas','Cordero':'Proteínas','Pollo':'Proteínas',\n",
    "    'Legumbres':'Legumbres','Frutos secos':'Frutos secos',\n",
    "    'Arroz':'Cereales','Pasta':'Cereales','Pan':'Cereales','Cereales':'Cereales','Galletas':'Cereales',\n",
    "    'Papas':'Tubérculos',\n",
    "    'Tomate':'Verduras','Otros vegetales':'Verduras','Lechuga':'Verduras',\n",
    "    'Manzana':'Frutas','Plátano':'Frutas','Cítricos':'Frutas','Durazno':'Frutas',\n",
    "    'Aceitunas':'Aceites','Azúcar':'Azúcares',\n",
    "    'Jugo':'Bebidas','Agua':'Bebidas','Gaseosa':'Bebidas','Café':'Bebidas','Cerveza':'Bebidas','Vino':'Bebidas'\n",
    "}\n",
    "\n",
    "recomend = {\n",
    "    'Lácteos': 500, 'Proteínas': 100, 'Legumbres': 50, 'Frutos secos': 15,\n",
    "    'Cereales': 300, 'Tubérculos': 200, 'Verduras': 400, 'Frutas': 300,\n",
    "    'Aceites': 25, 'Azúcares': 30, 'Bebidas': 1500\n",
    "}\n",
    "\n",
    "# 3. Añadir columna de grupo\n",
    "consumo['Grupo'] = consumo['Categoría'].map(grupo_map)\n",
    "\n",
    "# 4. Sumar consumos por grupo\n",
    "por_grupo = consumo.groupby('Grupo')[['DC', 'OLV', 'SUB', 'POB']].sum().reset_index()\n",
    "\n",
    "# 5. Calcular porcentaje de adecuación\n",
    "for diet in ['DC', 'OLV', 'SUB', 'POB']:\n",
    "    por_grupo[f'%{diet}'] = (por_grupo[diet] / por_grupo['Grupo'].map(recomend) * 100).round(1)\n",
    "\n",
    "# 6. Mostrar tabla resultante\n",
    "tabla = por_grupo[['Grupo','%DC','%OLV','%SUB','%POB']]\n",
    "print(tabla.to_markdown(index=False))\n",
    "\n"
   ]
  },
  {
   "cell_type": "code",
   "execution_count": 17,
   "id": "520a40de",
   "metadata": {},
   "outputs": [
    {
     "name": "stdout",
     "output_type": "stream",
     "text": [
      "Columnas de long: []\n",
      "Empty DataFrame\n",
      "Columns: []\n",
      "Index: []\n"
     ]
    },
    {
     "ename": "KeyError",
     "evalue": "'Dieta'",
     "output_type": "error",
     "traceback": [
      "\u001b[1;31m---------------------------------------------------------------------------\u001b[0m",
      "\u001b[1;31mKeyError\u001b[0m                                  Traceback (most recent call last)",
      "Cell \u001b[1;32mIn[17], line 56\u001b[0m\n\u001b[0;32m     53\u001b[0m \u001b[38;5;28mprint\u001b[39m(long\u001b[38;5;241m.\u001b[39mhead())\n\u001b[0;32m     55\u001b[0m \u001b[38;5;66;03m# 6. Agrupar usando los nombres correctos\u001b[39;00m\n\u001b[1;32m---> 56\u001b[0m sumas \u001b[38;5;241m=\u001b[39m \u001b[43mlong\u001b[49m\u001b[38;5;241;43m.\u001b[39;49m\u001b[43mgroupby\u001b[49m\u001b[43m(\u001b[49m\u001b[43m[\u001b[49m\u001b[38;5;124;43m\"\u001b[39;49m\u001b[38;5;124;43mDieta\u001b[39;49m\u001b[38;5;124;43m\"\u001b[39;49m\u001b[43m,\u001b[49m\u001b[38;5;124;43m\"\u001b[39;49m\u001b[38;5;124;43mNutriente\u001b[39;49m\u001b[38;5;124;43m\"\u001b[39;49m\u001b[43m]\u001b[49m\u001b[43m)\u001b[49m[\u001b[38;5;124m\"\u001b[39m\u001b[38;5;124mIngesta\u001b[39m\u001b[38;5;124m\"\u001b[39m]\u001b[38;5;241m.\u001b[39msum()\u001b[38;5;241m.\u001b[39munstack()\n\u001b[0;32m     58\u001b[0m \u001b[38;5;66;03m# 7. RDA y UL\u001b[39;00m\n\u001b[0;32m     59\u001b[0m rda \u001b[38;5;241m=\u001b[39m {\u001b[38;5;124m\"\u001b[39m\u001b[38;5;124mProteínas\u001b[39m\u001b[38;5;124m\"\u001b[39m:\u001b[38;5;241m50\u001b[39m,\u001b[38;5;124m\"\u001b[39m\u001b[38;5;124mFibra\u001b[39m\u001b[38;5;124m\"\u001b[39m:\u001b[38;5;241m25\u001b[39m,\u001b[38;5;124m\"\u001b[39m\u001b[38;5;124mK\u001b[39m\u001b[38;5;124m\"\u001b[39m:\u001b[38;5;241m3500\u001b[39m,\u001b[38;5;124m\"\u001b[39m\u001b[38;5;124mCa\u001b[39m\u001b[38;5;124m\"\u001b[39m:\u001b[38;5;241m1000\u001b[39m,\u001b[38;5;124m\"\u001b[39m\u001b[38;5;124mFe\u001b[39m\u001b[38;5;124m\"\u001b[39m:\u001b[38;5;241m18\u001b[39m,\u001b[38;5;124m\"\u001b[39m\u001b[38;5;124mMg\u001b[39m\u001b[38;5;124m\"\u001b[39m:\u001b[38;5;241m375\u001b[39m,\u001b[38;5;124m\"\u001b[39m\u001b[38;5;124mVit A\u001b[39m\u001b[38;5;124m\"\u001b[39m:\u001b[38;5;241m800\u001b[39m,\u001b[38;5;124m\"\u001b[39m\u001b[38;5;124mVit C\u001b[39m\u001b[38;5;124m\"\u001b[39m:\u001b[38;5;241m80\u001b[39m,\u001b[38;5;124m\"\u001b[39m\u001b[38;5;124mVit E\u001b[39m\u001b[38;5;124m\"\u001b[39m:\u001b[38;5;241m12\u001b[39m}\n",
      "File \u001b[1;32mc:\\Python312\\Lib\\site-packages\\pandas\\core\\frame.py:8869\u001b[0m, in \u001b[0;36mDataFrame.groupby\u001b[1;34m(self, by, axis, level, as_index, sort, group_keys, observed, dropna)\u001b[0m\n\u001b[0;32m   8866\u001b[0m \u001b[38;5;28;01mif\u001b[39;00m level \u001b[38;5;129;01mis\u001b[39;00m \u001b[38;5;28;01mNone\u001b[39;00m \u001b[38;5;129;01mand\u001b[39;00m by \u001b[38;5;129;01mis\u001b[39;00m \u001b[38;5;28;01mNone\u001b[39;00m:\n\u001b[0;32m   8867\u001b[0m     \u001b[38;5;28;01mraise\u001b[39;00m \u001b[38;5;167;01mTypeError\u001b[39;00m(\u001b[38;5;124m\"\u001b[39m\u001b[38;5;124mYou have to supply one of \u001b[39m\u001b[38;5;124m'\u001b[39m\u001b[38;5;124mby\u001b[39m\u001b[38;5;124m'\u001b[39m\u001b[38;5;124m and \u001b[39m\u001b[38;5;124m'\u001b[39m\u001b[38;5;124mlevel\u001b[39m\u001b[38;5;124m'\u001b[39m\u001b[38;5;124m\"\u001b[39m)\n\u001b[1;32m-> 8869\u001b[0m \u001b[38;5;28;01mreturn\u001b[39;00m \u001b[43mDataFrameGroupBy\u001b[49m\u001b[43m(\u001b[49m\n\u001b[0;32m   8870\u001b[0m \u001b[43m    \u001b[49m\u001b[43mobj\u001b[49m\u001b[38;5;241;43m=\u001b[39;49m\u001b[38;5;28;43mself\u001b[39;49m\u001b[43m,\u001b[49m\n\u001b[0;32m   8871\u001b[0m \u001b[43m    \u001b[49m\u001b[43mkeys\u001b[49m\u001b[38;5;241;43m=\u001b[39;49m\u001b[43mby\u001b[49m\u001b[43m,\u001b[49m\n\u001b[0;32m   8872\u001b[0m \u001b[43m    \u001b[49m\u001b[43maxis\u001b[49m\u001b[38;5;241;43m=\u001b[39;49m\u001b[43maxis\u001b[49m\u001b[43m,\u001b[49m\n\u001b[0;32m   8873\u001b[0m \u001b[43m    \u001b[49m\u001b[43mlevel\u001b[49m\u001b[38;5;241;43m=\u001b[39;49m\u001b[43mlevel\u001b[49m\u001b[43m,\u001b[49m\n\u001b[0;32m   8874\u001b[0m \u001b[43m    \u001b[49m\u001b[43mas_index\u001b[49m\u001b[38;5;241;43m=\u001b[39;49m\u001b[43mas_index\u001b[49m\u001b[43m,\u001b[49m\n\u001b[0;32m   8875\u001b[0m \u001b[43m    \u001b[49m\u001b[43msort\u001b[49m\u001b[38;5;241;43m=\u001b[39;49m\u001b[43msort\u001b[49m\u001b[43m,\u001b[49m\n\u001b[0;32m   8876\u001b[0m \u001b[43m    \u001b[49m\u001b[43mgroup_keys\u001b[49m\u001b[38;5;241;43m=\u001b[39;49m\u001b[43mgroup_keys\u001b[49m\u001b[43m,\u001b[49m\n\u001b[0;32m   8877\u001b[0m \u001b[43m    \u001b[49m\u001b[43mobserved\u001b[49m\u001b[38;5;241;43m=\u001b[39;49m\u001b[43mobserved\u001b[49m\u001b[43m,\u001b[49m\n\u001b[0;32m   8878\u001b[0m \u001b[43m    \u001b[49m\u001b[43mdropna\u001b[49m\u001b[38;5;241;43m=\u001b[39;49m\u001b[43mdropna\u001b[49m\u001b[43m,\u001b[49m\n\u001b[0;32m   8879\u001b[0m \u001b[43m\u001b[49m\u001b[43m)\u001b[49m\n",
      "File \u001b[1;32mc:\\Python312\\Lib\\site-packages\\pandas\\core\\groupby\\groupby.py:1278\u001b[0m, in \u001b[0;36mGroupBy.__init__\u001b[1;34m(self, obj, keys, axis, level, grouper, exclusions, selection, as_index, sort, group_keys, observed, dropna)\u001b[0m\n\u001b[0;32m   1275\u001b[0m \u001b[38;5;28mself\u001b[39m\u001b[38;5;241m.\u001b[39mdropna \u001b[38;5;241m=\u001b[39m dropna\n\u001b[0;32m   1277\u001b[0m \u001b[38;5;28;01mif\u001b[39;00m grouper \u001b[38;5;129;01mis\u001b[39;00m \u001b[38;5;28;01mNone\u001b[39;00m:\n\u001b[1;32m-> 1278\u001b[0m     grouper, exclusions, obj \u001b[38;5;241m=\u001b[39m \u001b[43mget_grouper\u001b[49m\u001b[43m(\u001b[49m\n\u001b[0;32m   1279\u001b[0m \u001b[43m        \u001b[49m\u001b[43mobj\u001b[49m\u001b[43m,\u001b[49m\n\u001b[0;32m   1280\u001b[0m \u001b[43m        \u001b[49m\u001b[43mkeys\u001b[49m\u001b[43m,\u001b[49m\n\u001b[0;32m   1281\u001b[0m \u001b[43m        \u001b[49m\u001b[43maxis\u001b[49m\u001b[38;5;241;43m=\u001b[39;49m\u001b[43maxis\u001b[49m\u001b[43m,\u001b[49m\n\u001b[0;32m   1282\u001b[0m \u001b[43m        \u001b[49m\u001b[43mlevel\u001b[49m\u001b[38;5;241;43m=\u001b[39;49m\u001b[43mlevel\u001b[49m\u001b[43m,\u001b[49m\n\u001b[0;32m   1283\u001b[0m \u001b[43m        \u001b[49m\u001b[43msort\u001b[49m\u001b[38;5;241;43m=\u001b[39;49m\u001b[43msort\u001b[49m\u001b[43m,\u001b[49m\n\u001b[0;32m   1284\u001b[0m \u001b[43m        \u001b[49m\u001b[43mobserved\u001b[49m\u001b[38;5;241;43m=\u001b[39;49m\u001b[38;5;28;43;01mFalse\u001b[39;49;00m\u001b[43m \u001b[49m\u001b[38;5;28;43;01mif\u001b[39;49;00m\u001b[43m \u001b[49m\u001b[43mobserved\u001b[49m\u001b[43m \u001b[49m\u001b[38;5;129;43;01mis\u001b[39;49;00m\u001b[43m \u001b[49m\u001b[43mlib\u001b[49m\u001b[38;5;241;43m.\u001b[39;49m\u001b[43mno_default\u001b[49m\u001b[43m \u001b[49m\u001b[38;5;28;43;01melse\u001b[39;49;00m\u001b[43m \u001b[49m\u001b[43mobserved\u001b[49m\u001b[43m,\u001b[49m\n\u001b[0;32m   1285\u001b[0m \u001b[43m        \u001b[49m\u001b[43mdropna\u001b[49m\u001b[38;5;241;43m=\u001b[39;49m\u001b[38;5;28;43mself\u001b[39;49m\u001b[38;5;241;43m.\u001b[39;49m\u001b[43mdropna\u001b[49m\u001b[43m,\u001b[49m\n\u001b[0;32m   1286\u001b[0m \u001b[43m    \u001b[49m\u001b[43m)\u001b[49m\n\u001b[0;32m   1288\u001b[0m \u001b[38;5;28;01mif\u001b[39;00m observed \u001b[38;5;129;01mis\u001b[39;00m lib\u001b[38;5;241m.\u001b[39mno_default:\n\u001b[0;32m   1289\u001b[0m     \u001b[38;5;28;01mif\u001b[39;00m \u001b[38;5;28many\u001b[39m(ping\u001b[38;5;241m.\u001b[39m_passed_categorical \u001b[38;5;28;01mfor\u001b[39;00m ping \u001b[38;5;129;01min\u001b[39;00m grouper\u001b[38;5;241m.\u001b[39mgroupings):\n",
      "File \u001b[1;32mc:\\Python312\\Lib\\site-packages\\pandas\\core\\groupby\\grouper.py:1009\u001b[0m, in \u001b[0;36mget_grouper\u001b[1;34m(obj, key, axis, level, sort, observed, validate, dropna)\u001b[0m\n\u001b[0;32m   1007\u001b[0m         in_axis, level, gpr \u001b[38;5;241m=\u001b[39m \u001b[38;5;28;01mFalse\u001b[39;00m, gpr, \u001b[38;5;28;01mNone\u001b[39;00m\n\u001b[0;32m   1008\u001b[0m     \u001b[38;5;28;01melse\u001b[39;00m:\n\u001b[1;32m-> 1009\u001b[0m         \u001b[38;5;28;01mraise\u001b[39;00m \u001b[38;5;167;01mKeyError\u001b[39;00m(gpr)\n\u001b[0;32m   1010\u001b[0m \u001b[38;5;28;01melif\u001b[39;00m \u001b[38;5;28misinstance\u001b[39m(gpr, Grouper) \u001b[38;5;129;01mand\u001b[39;00m gpr\u001b[38;5;241m.\u001b[39mkey \u001b[38;5;129;01mis\u001b[39;00m \u001b[38;5;129;01mnot\u001b[39;00m \u001b[38;5;28;01mNone\u001b[39;00m:\n\u001b[0;32m   1011\u001b[0m     \u001b[38;5;66;03m# Add key to exclusions\u001b[39;00m\n\u001b[0;32m   1012\u001b[0m     exclusions\u001b[38;5;241m.\u001b[39madd(gpr\u001b[38;5;241m.\u001b[39mkey)\n",
      "\u001b[1;31mKeyError\u001b[0m: 'Dieta'"
     ]
    }
   ],
   "source": [
    "import pandas as pd\n",
    "\n",
    "# 1. Cargar datos\n",
    "consumo = pd.read_csv(\"../data_final/dietas_consumo.csv\").rename(columns={\"DC_ajustada\":\"DC\"})\n",
    "nutri   = pd.read_csv(\"../data_final/nutrientes_alimentos_agrupados_precios.csv\")\n",
    "\n",
    "# 2. Normalizar y filtrar categorías\n",
    "consumo[\"Categoría\"] = consumo[\"Categoría\"].str.strip()\n",
    "categorias = consumo[\"Categoría\"].unique()\n",
    "nutri = nutri[nutri[\"Alimento\"].isin(categorias)]\n",
    "nutri[\"Grupo\"] = nutri[\"Grupo\"].str.strip()\n",
    "\n",
    "# 3. Nutrientes de interés\n",
    "cols = {\n",
    "    \"Protein\":\"Proteínas\",\n",
    "    \"Fiber, total dietary\":\"Fibra\",\n",
    "    \"Potassium, K\":\"K\",\n",
    "    \"Calcium, Ca\":\"Ca\",\n",
    "    \"Iron, Fe\":\"Fe\",\n",
    "    \"Magnesium, Mg\":\"Mg\",\n",
    "    \"Vitamin A, RAE\":\"Vit A\",\n",
    "    \"Vitamin C, total ascorbic acid\":\"Vit C\",\n",
    "    \"Vitamin E, added\":\"Vit E\",\n",
    "    \"Fatty acids, total saturated\":\"SAT\",\n",
    "    \"Sodium, Na\":\"Na\",\n",
    "}\n",
    "\n",
    "# 4. Composición media por grupo\n",
    "comp_media = (\n",
    "    nutri\n",
    "    .groupby(\"Grupo\")[list(cols.keys())]\n",
    "    .mean()\n",
    "    .rename(columns=cols)\n",
    ")\n",
    "\n",
    "# 5. Construir long\n",
    "rows = []\n",
    "for dieta in [\"DC\",\"OLV\",\"SUB\",\"POB\"]:\n",
    "    for _, r in consumo.iterrows():\n",
    "        cat = r[\"Categoría\"]\n",
    "        gramos = r[dieta]\n",
    "        if cat not in comp_media.index:\n",
    "            continue\n",
    "        comp = comp_media.loc[cat]\n",
    "        for nutr in cols.values():\n",
    "            ing = comp[nutr] * gramos/100\n",
    "            rows.append({\"Dieta\": dieta, \"Nutriente\": nutr, \"Ingesta\": ing})\n",
    "\n",
    "long = pd.DataFrame(rows)\n",
    "\n",
    "# — Depuración —\n",
    "print(\"Columnas de long:\", long.columns.tolist())\n",
    "print(long.head())\n",
    "\n",
    "# 6. Agrupar usando los nombres correctos\n",
    "sumas = long.groupby([\"Dieta\",\"Nutriente\"])[\"Ingesta\"].sum().unstack()\n",
    "\n",
    "# 7. RDA y UL\n",
    "rda = {\"Proteínas\":50,\"Fibra\":25,\"K\":3500,\"Ca\":1000,\"Fe\":18,\"Mg\":375,\"Vit A\":800,\"Vit C\":80,\"Vit E\":12}\n",
    "ul  = {\"SAT\":20,\"Na\":2000,\"Azúcar añadida\":50}\n",
    "\n",
    "# 8. Calcular TNR9 y TNL3\n",
    "tnr9 = sumas[list(rda)].divide(pd.Series(rda), axis=1)*100\n",
    "tnl3 = sumas[list(ul)].divide(pd.Series(ul), axis=1)*100\n",
    "tnl3 = tnl3.clip(upper=100)\n",
    "\n",
    "# 9. NRD9.3\n",
    "nrd = pd.DataFrame({\n",
    "    \"TNR9\": tnr9.sum(axis=1),\n",
    "    \"TNL3\": tnl3.sum(axis=1)\n",
    "})\n",
    "nrd[\"NRD9.3\"] = nrd[\"TNR9\"] - nrd[\"TNL3\"]\n",
    "\n",
    "# 10. Salida\n",
    "tabla = pd.concat([tnr9, tnl3, nrd], axis=1).round(1)\n",
    "print(tabla.to_markdown())\n"
   ]
  },
  {
   "cell_type": "code",
   "execution_count": null,
   "id": "eff328b0",
   "metadata": {},
   "outputs": [],
   "source": []
  }
 ],
 "metadata": {
  "kernelspec": {
   "display_name": "Python 3",
   "language": "python",
   "name": "python3"
  },
  "language_info": {
   "codemirror_mode": {
    "name": "ipython",
    "version": 3
   },
   "file_extension": ".py",
   "mimetype": "text/x-python",
   "name": "python",
   "nbconvert_exporter": "python",
   "pygments_lexer": "ipython3",
   "version": "3.12.0"
  }
 },
 "nbformat": 4,
 "nbformat_minor": 5
}
